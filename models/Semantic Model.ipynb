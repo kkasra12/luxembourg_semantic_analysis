{
 "cells": [
  {
   "cell_type": "code",
   "execution_count": 5,
   "id": "070b9310",
   "metadata": {},
   "outputs": [
    {
     "name": "stdout",
     "output_type": "stream",
     "text": [
      "Requirement already satisfied: transformers in c:\\users\\vampire\\appdata\\local\\anaconda3\\lib\\site-packages (4.24.0)\n",
      "Requirement already satisfied: torch in c:\\users\\vampire\\appdata\\local\\anaconda3\\lib\\site-packages (1.12.1)\n",
      "Requirement already satisfied: matplotlib in c:\\users\\vampire\\appdata\\local\\anaconda3\\lib\\site-packages (3.7.0)\n",
      "Requirement already satisfied: filelock in c:\\users\\vampire\\appdata\\local\\anaconda3\\lib\\site-packages (from transformers) (3.9.0)\n",
      "Requirement already satisfied: huggingface-hub<1.0,>=0.10.0 in c:\\users\\vampire\\appdata\\local\\anaconda3\\lib\\site-packages (from transformers) (0.26.2)\n",
      "Requirement already satisfied: numpy>=1.17 in c:\\users\\vampire\\appdata\\local\\anaconda3\\lib\\site-packages (from transformers) (1.26.4)\n",
      "Requirement already satisfied: packaging>=20.0 in c:\\users\\vampire\\appdata\\local\\anaconda3\\lib\\site-packages (from transformers) (22.0)\n",
      "Requirement already satisfied: pyyaml>=5.1 in c:\\users\\vampire\\appdata\\local\\anaconda3\\lib\\site-packages (from transformers) (6.0)\n",
      "Requirement already satisfied: regex!=2019.12.17 in c:\\users\\vampire\\appdata\\local\\anaconda3\\lib\\site-packages (from transformers) (2022.7.9)\n",
      "Requirement already satisfied: requests in c:\\users\\vampire\\appdata\\local\\anaconda3\\lib\\site-packages (from transformers) (2.32.3)\n",
      "Requirement already satisfied: tokenizers!=0.11.3,<0.14,>=0.11.1 in c:\\users\\vampire\\appdata\\local\\anaconda3\\lib\\site-packages (from transformers) (0.11.4)\n",
      "Requirement already satisfied: tqdm>=4.27 in c:\\users\\vampire\\appdata\\local\\anaconda3\\lib\\site-packages (from transformers) (4.67.0)\n",
      "Requirement already satisfied: typing_extensions in c:\\users\\vampire\\appdata\\local\\anaconda3\\lib\\site-packages (from torch) (4.12.2)\n",
      "Requirement already satisfied: contourpy>=1.0.1 in c:\\users\\vampire\\appdata\\local\\anaconda3\\lib\\site-packages (from matplotlib) (1.0.5)\n",
      "Requirement already satisfied: cycler>=0.10 in c:\\users\\vampire\\appdata\\local\\anaconda3\\lib\\site-packages (from matplotlib) (0.11.0)\n",
      "Requirement already satisfied: fonttools>=4.22.0 in c:\\users\\vampire\\appdata\\local\\anaconda3\\lib\\site-packages (from matplotlib) (4.25.0)\n",
      "Requirement already satisfied: kiwisolver>=1.0.1 in c:\\users\\vampire\\appdata\\local\\anaconda3\\lib\\site-packages (from matplotlib) (1.4.4)\n",
      "Requirement already satisfied: pillow>=6.2.0 in c:\\users\\vampire\\appdata\\local\\anaconda3\\lib\\site-packages (from matplotlib) (9.4.0)\n",
      "Requirement already satisfied: pyparsing>=2.3.1 in c:\\users\\vampire\\appdata\\local\\anaconda3\\lib\\site-packages (from matplotlib) (3.0.9)\n",
      "Requirement already satisfied: python-dateutil>=2.7 in c:\\users\\vampire\\appdata\\local\\anaconda3\\lib\\site-packages (from matplotlib) (2.8.2)\n",
      "Requirement already satisfied: fsspec>=2023.5.0 in c:\\users\\vampire\\appdata\\local\\anaconda3\\lib\\site-packages (from huggingface-hub<1.0,>=0.10.0->transformers) (2024.9.0)\n",
      "Requirement already satisfied: six>=1.5 in c:\\users\\vampire\\appdata\\local\\anaconda3\\lib\\site-packages (from python-dateutil>=2.7->matplotlib) (1.16.0)\n",
      "Requirement already satisfied: colorama in c:\\users\\vampire\\appdata\\local\\anaconda3\\lib\\site-packages (from tqdm>=4.27->transformers) (0.4.6)\n",
      "Requirement already satisfied: charset-normalizer<4,>=2 in c:\\users\\vampire\\appdata\\local\\anaconda3\\lib\\site-packages (from requests->transformers) (2.0.4)\n",
      "Requirement already satisfied: idna<4,>=2.5 in c:\\users\\vampire\\appdata\\local\\anaconda3\\lib\\site-packages (from requests->transformers) (2.10)\n",
      "Requirement already satisfied: urllib3<3,>=1.21.1 in c:\\users\\vampire\\appdata\\local\\anaconda3\\lib\\site-packages (from requests->transformers) (1.26.14)\n",
      "Requirement already satisfied: certifi>=2017.4.17 in c:\\users\\vampire\\appdata\\local\\anaconda3\\lib\\site-packages (from requests->transformers) (2024.8.30)\n",
      "Requirement already satisfied: plotly in c:\\users\\vampire\\appdata\\local\\anaconda3\\lib\\site-packages (5.9.0)\n",
      "Requirement already satisfied: tenacity>=6.2.0 in c:\\users\\vampire\\appdata\\local\\anaconda3\\lib\\site-packages (from plotly) (8.0.1)\n"
     ]
    }
   ],
   "source": [
    "!pip install transformers torch matplotlib\n",
    "!pip install plotly  \n"
   ]
  },
  {
   "cell_type": "markdown",
   "id": "1daeb8e2",
   "metadata": {},
   "source": [
    "**Load the Emotion Detection Model**"
   ]
  },
  {
   "cell_type": "code",
   "execution_count": 6,
   "id": "638ed97a",
   "metadata": {},
   "outputs": [
    {
     "name": "stderr",
     "output_type": "stream",
     "text": [
      "C:\\Users\\Vampire\\AppData\\Local\\anaconda3\\lib\\site-packages\\huggingface_hub\\file_download.py:797: FutureWarning: `resume_download` is deprecated and will be removed in version 1.0.0. Downloads always resume when possible. If you want to force a new download, use `force_download=True`.\n",
      "  warnings.warn(\n"
     ]
    },
    {
     "name": "stdout",
     "output_type": "stream",
     "text": [
      "Emotion labels: ['anger', 'disgust', 'fear', 'joy', 'neutral', 'sadness', 'surprise']\n"
     ]
    }
   ],
   "source": [
    "from transformers import AutoTokenizer, AutoModelForSequenceClassification\n",
    "import torch\n",
    "\n",
    "model_name = \"j-hartmann/emotion-english-distilroberta-base\"\n",
    "tokenizer = AutoTokenizer.from_pretrained(model_name)\n",
    "model = AutoModelForSequenceClassification.from_pretrained(model_name)\n",
    "\n",
    "labels = [\"anger\", \"disgust\", \"fear\", \"joy\", \"neutral\", \"sadness\", \"surprise\"]\n",
    "print(\"Emotion labels:\", labels)\n"
   ]
  },
  {
   "cell_type": "markdown",
   "id": "95b927c9",
   "metadata": {},
   "source": [
    "**the detect_emotions Function**"
   ]
  },
  {
   "cell_type": "code",
   "execution_count": 7,
   "id": "62f92f84",
   "metadata": {},
   "outputs": [
    {
     "name": "stdout",
     "output_type": "stream",
     "text": [
      "Enter text to analyze emotions: today the weather is cold and i got stressed\n",
      "Detected Emotions and Intensities:\n",
      "anger: 0.69\n",
      "disgust: 0.00\n",
      "fear: 0.00\n",
      "joy: 0.01\n",
      "neutral: 0.00\n",
      "sadness: 0.29\n",
      "surprise: 0.00\n"
     ]
    }
   ],
   "source": [
    "def detect_emotions(text):\n",
    "    # Tokenize the input text\n",
    "    inputs = tokenizer(text, return_tensors=\"pt\")\n",
    "    \n",
    "    # Perform inference\n",
    "    outputs = model(**inputs)\n",
    "    scores = outputs[0][0].detach().numpy()\n",
    "    scores = torch.softmax(torch.tensor(scores), dim=0).numpy()  # Convert to probabilities\n",
    "\n",
    "    # Map scores to emotion labels\n",
    "    emotion_scores = {label: score for label, score in zip(labels, scores)}\n",
    "    \n",
    "    # Print results\n",
    "    print(\"Detected Emotions and Intensities:\")\n",
    "    for emotion, intensity in emotion_scores.items():\n",
    "        print(f\"{emotion}: {intensity:.2f}\")\n",
    "\n",
    "# Example usage\n",
    "text = input(\"Enter text to analyze emotions: \")\n",
    "detect_emotions(text)"
   ]
  },
  {
   "cell_type": "markdown",
   "id": "aab0c11a",
   "metadata": {},
   "source": [
    "**Visualizing Detected Emotions Using a Radar Chart**"
   ]
  },
  {
   "cell_type": "code",
   "execution_count": 8,
   "id": "780c3c15",
   "metadata": {},
   "outputs": [
    {
     "name": "stdout",
     "output_type": "stream",
     "text": [
      "Enter text to analyze emotions: today the weather is cold and i got stressed\n",
      "Detected Emotions and Intensities:\n",
      "anger: 0.69\n",
      "disgust: 0.00\n",
      "fear: 0.00\n",
      "joy: 0.01\n",
      "neutral: 0.00\n",
      "sadness: 0.29\n",
      "surprise: 0.00\n"
     ]
    },
    {
     "data": {
      "image/png": "[encoded data removed]",
      "text/plain": [
       "<Figure size 600x600 with 1 Axes>"
      ]
     },
     "metadata": {},
     "output_type": "display_data"
    }
   ],
   "source": [
    "import matplotlib.pyplot as plt\n",
    "import numpy as np\n",
    "\n",
    "# Function to create radar chart visualization\n",
    "def plot_emotions(emotion_scores):\n",
    "    # Prepare data for radar chart\n",
    "    labels = list(emotion_scores.keys())\n",
    "    scores = list(emotion_scores.values())\n",
    "    \n",
    "    # Create radar chart\n",
    "    angles = np.linspace(0, 2 * np.pi, len(labels), endpoint=False).tolist()\n",
    "    scores += scores[:1]  # Close the loop\n",
    "    angles += angles[:1]\n",
    "    \n",
    "    fig, ax = plt.subplots(figsize=(6, 6), subplot_kw=dict(polar=True))\n",
    "    ax.fill(angles, scores, color='skyblue', alpha=0.4)\n",
    "    ax.plot(angles, scores, color='blue', linewidth=2)\n",
    "    ax.set_yticks([])\n",
    "    ax.set_xticks(angles[:-1])\n",
    "    ax.set_xticklabels(labels)\n",
    "\n",
    "    # Display plot\n",
    "    plt.title(\"Emotion Intensities\")\n",
    "    plt.show()\n",
    "\n",
    "# Updated detect_emotions function to include visualization\n",
    "def detect_emotions(text):\n",
    "    inputs = tokenizer(text, return_tensors=\"pt\")\n",
    "    outputs = model(**inputs)\n",
    "    scores = outputs[0][0].detach().numpy()\n",
    "    scores = torch.softmax(torch.tensor(scores), dim=0).numpy()\n",
    "\n",
    "    emotion_scores = {label: score for label, score in zip(labels, scores)}\n",
    "    \n",
    "    print(\"Detected Emotions and Intensities:\")\n",
    "    for emotion, intensity in emotion_scores.items():\n",
    "        print(f\"{emotion}: {intensity:.2f}\")\n",
    "    \n",
    "    # Visualize detected emotions\n",
    "    plot_emotions(emotion_scores)\n",
    "\n",
    "# Test the updated function\n",
    "text = input(\"Enter text to analyze emotions: \")\n",
    "detect_emotions(text)\n"
   ]
  },
  {
   "cell_type": "code",
   "execution_count": 9,
   "id": "7895a015",
   "metadata": {},
   "outputs": [
    {
     "name": "stdout",
     "output_type": "stream",
     "text": [
      "Collecting pyplutchik\n",
      "  Downloading pyplutchik-0.0.11-py3-none-any.whl.metadata (1.1 kB)\n",
      "Requirement already satisfied: matplotlib in c:\\users\\vampire\\appdata\\local\\anaconda3\\lib\\site-packages (from pyplutchik) (3.7.0)\n",
      "Requirement already satisfied: pandas in c:\\users\\vampire\\appdata\\local\\anaconda3\\lib\\site-packages (from pyplutchik) (1.5.3)\n",
      "Requirement already satisfied: shapely in c:\\users\\vampire\\appdata\\local\\anaconda3\\lib\\site-packages (from pyplutchik) (2.0.6)\n",
      "Requirement already satisfied: descartes in c:\\users\\vampire\\appdata\\local\\anaconda3\\lib\\site-packages (from pyplutchik) (1.1.0)\n",
      "Requirement already satisfied: numpy in c:\\users\\vampire\\appdata\\local\\anaconda3\\lib\\site-packages (from pyplutchik) (1.26.4)\n",
      "Requirement already satisfied: contourpy>=1.0.1 in c:\\users\\vampire\\appdata\\local\\anaconda3\\lib\\site-packages (from matplotlib->pyplutchik) (1.0.5)\n",
      "Requirement already satisfied: cycler>=0.10 in c:\\users\\vampire\\appdata\\local\\anaconda3\\lib\\site-packages (from matplotlib->pyplutchik) (0.11.0)\n",
      "Requirement already satisfied: fonttools>=4.22.0 in c:\\users\\vampire\\appdata\\local\\anaconda3\\lib\\site-packages (from matplotlib->pyplutchik) (4.25.0)\n",
      "Requirement already satisfied: kiwisolver>=1.0.1 in c:\\users\\vampire\\appdata\\local\\anaconda3\\lib\\site-packages (from matplotlib->pyplutchik) (1.4.4)\n",
      "Requirement already satisfied: packaging>=20.0 in c:\\users\\vampire\\appdata\\local\\anaconda3\\lib\\site-packages (from matplotlib->pyplutchik) (22.0)\n",
      "Requirement already satisfied: pillow>=6.2.0 in c:\\users\\vampire\\appdata\\local\\anaconda3\\lib\\site-packages (from matplotlib->pyplutchik) (9.4.0)\n",
      "Requirement already satisfied: pyparsing>=2.3.1 in c:\\users\\vampire\\appdata\\local\\anaconda3\\lib\\site-packages (from matplotlib->pyplutchik) (3.0.9)\n",
      "Requirement already satisfied: python-dateutil>=2.7 in c:\\users\\vampire\\appdata\\local\\anaconda3\\lib\\site-packages (from matplotlib->pyplutchik) (2.8.2)\n",
      "Requirement already satisfied: pytz>=2020.1 in c:\\users\\vampire\\appdata\\local\\anaconda3\\lib\\site-packages (from pandas->pyplutchik) (2022.7)\n",
      "Requirement already satisfied: six>=1.5 in c:\\users\\vampire\\appdata\\local\\anaconda3\\lib\\site-packages (from python-dateutil>=2.7->matplotlib->pyplutchik) (1.16.0)\n",
      "Downloading pyplutchik-0.0.11-py3-none-any.whl (10 kB)\n",
      "Installing collected packages: pyplutchik\n",
      "Successfully installed pyplutchik-0.0.11\n"
     ]
    }
   ],
   "source": [
    "!pip install pyplutchik\n"
   ]
  },
  {
   "cell_type": "code",
   "execution_count": 14,
   "id": "e0dd3296",
   "metadata": {},
   "outputs": [
    {
     "ename": "ModuleNotFoundError",
     "evalue": "No module named 'pyplutchik.plutchik'",
     "output_type": "error",
     "traceback": [
      "\u001b[1;31m---------------------------------------------------------------------------\u001b[0m",
      "\u001b[1;31mModuleNotFoundError\u001b[0m                       Traceback (most recent call last)",
      "Cell \u001b[1;32mIn[14], line 3\u001b[0m\n\u001b[0;32m      1\u001b[0m \u001b[38;5;28;01mimport\u001b[39;00m \u001b[38;5;21;01mmatplotlib\u001b[39;00m\u001b[38;5;21;01m.\u001b[39;00m\u001b[38;5;21;01mpyplot\u001b[39;00m \u001b[38;5;28;01mas\u001b[39;00m \u001b[38;5;21;01mplt\u001b[39;00m\n\u001b[0;32m      2\u001b[0m \u001b[38;5;28;01mimport\u001b[39;00m \u001b[38;5;21;01mnumpy\u001b[39;00m \u001b[38;5;28;01mas\u001b[39;00m \u001b[38;5;21;01mnp\u001b[39;00m\n\u001b[1;32m----> 3\u001b[0m \u001b[38;5;28;01mfrom\u001b[39;00m \u001b[38;5;21;01mpyplutchik\u001b[39;00m\u001b[38;5;21;01m.\u001b[39;00m\u001b[38;5;21;01mplutchik\u001b[39;00m \u001b[38;5;28;01mimport\u001b[39;00m plutchik\n\u001b[0;32m      4\u001b[0m \u001b[38;5;28;01mimport\u001b[39;00m \u001b[38;5;21;01mtorch\u001b[39;00m\n\u001b[0;32m      5\u001b[0m \u001b[38;5;28;01mfrom\u001b[39;00m \u001b[38;5;21;01mpyplutchik\u001b[39;00m \u001b[38;5;28;01mimport\u001b[39;00m plutchik\n",
      "\u001b[1;31mModuleNotFoundError\u001b[0m: No module named 'pyplutchik.plutchik'"
     ]
    }
   ],
   "source": [
    "import matplotlib.pyplot as plt\n",
    "import numpy as np\n",
    "from pyplutchik.plutchik import plutchik\n",
    "import torch\n",
    "from pyplutchik import plutchik\n",
    "\n",
    "\n",
    "# Dummy tokenizer, model, and labels (Replace these with your actual model/tokenizer)\n",
    "from transformers import AutoTokenizer, AutoModelForSequenceClassification\n",
    "tokenizer = AutoTokenizer.from_pretrained(\"nateraw/bert-base-uncased-emotion\")\n",
    "model = AutoModelForSequenceClassification.from_pretrained(\"nateraw/bert-base-uncased-emotion\")\n",
    "labels = [\"anger\", \"fear\", \"joy\", \"love\", \"sadness\", \"surprise\"]\n",
    "\n",
    "# Function to create radar chart visualization\n",
    "def plot_emotions(emotion_scores):\n",
    "    # Prepare data for radar chart\n",
    "    labels = list(emotion_scores.keys())\n",
    "    scores = list(emotion_scores.values())\n",
    "    \n",
    "    # Create radar chart\n",
    "    angles = np.linspace(0, 2 * np.pi, len(labels), endpoint=False).tolist()\n",
    "    scores += scores[:1]  # Close the loop\n",
    "    angles += angles[:1]\n",
    "    \n",
    "    fig, ax = plt.subplots(figsize=(6, 6), subplot_kw=dict(polar=True))\n",
    "    ax.fill(angles, scores, color='skyblue', alpha=0.4)\n",
    "    ax.plot(angles, scores, color='blue', linewidth=2)\n",
    "    ax.set_yticks([])\n",
    "    ax.set_xticks(angles[:-1])\n",
    "    ax.set_xticklabels(labels)\n",
    "\n",
    "    # Display plot\n",
    "    plt.title(\"Emotion Intensities\")\n",
    "    plt.show()\n",
    "\n",
    "# Updated detect_emotions function to include visualization\n",
    "def detect_emotions(text):\n",
    "    inputs = tokenizer(text, return_tensors=\"pt\")\n",
    "    outputs = model(**inputs)\n",
    "    scores = outputs[0][0].detach().numpy()\n",
    "    scores = torch.softmax(torch.tensor(scores), dim=0).numpy()\n",
    "\n",
    "    emotion_scores = {label: score for label, score in zip(labels, scores)}\n",
    "    \n",
    "    print(\"Detected Emotions and Intensities:\")\n",
    "    for emotion, intensity in emotion_scores.items():\n",
    "        print(f\"{emotion}: {intensity:.2f}\")\n",
    "    \n",
    "    # Visualize detected emotions as radar chart\n",
    "    plot_emotions(emotion_scores)\n",
    "\n",
    "    # Visualize emotions using Plutchik's wheel\n",
    "    plutchik(emotion_scores)\n",
    "\n",
    "# Test the updated function\n",
    "text = input(\"Enter text to analyze emotions: \")\n",
    "detect_emotions(text)\n"
   ]
  },
  {
   "cell_type": "code",
   "execution_count": 15,
   "id": "d8668cbe",
   "metadata": {},
   "outputs": [
    {
     "name": "stderr",
     "output_type": "stream",
     "text": [
      "C:\\Users\\Vampire\\AppData\\Local\\anaconda3\\lib\\site-packages\\huggingface_hub\\file_download.py:797: FutureWarning: `resume_download` is deprecated and will be removed in version 1.0.0. Downloads always resume when possible. If you want to force a new download, use `force_download=True`.\n",
      "  warnings.warn(\n"
     ]
    },
    {
     "data": {
      "application/vnd.jupyter.widget-view+json": {
       "model_id": "1781954b598e4d83b3e3808774c2f24b",
       "version_major": 2,
       "version_minor": 0
      },
      "text/plain": [
       "tokenizer_config.json:   0%|          | 0.00/252 [00:00<?, ?B/s]"
      ]
     },
     "metadata": {},
     "output_type": "display_data"
    },
    {
     "name": "stderr",
     "output_type": "stream",
     "text": [
      "C:\\Users\\Vampire\\AppData\\Local\\anaconda3\\lib\\site-packages\\huggingface_hub\\file_download.py:139: UserWarning: `huggingface_hub` cache-system uses symlinks by default to efficiently store duplicated files but your machine does not support them in C:\\Users\\Vampire\\.cache\\huggingface\\hub\\models--nateraw--bert-base-uncased-emotion. Caching files will still work but in a degraded version that might require more space on your disk. This warning can be disabled by setting the `HF_HUB_DISABLE_SYMLINKS_WARNING` environment variable. For more details, see https://huggingface.co/docs/huggingface_hub/how-to-cache#limitations.\n",
      "To support symlinks on Windows, you either need to activate Developer Mode or to run Python as an administrator. In order to activate developer mode, see this article: https://docs.microsoft.com/en-us/windows/apps/get-started/enable-your-device-for-development\n",
      "  warnings.warn(message)\n"
     ]
    },
    {
     "data": {
      "application/vnd.jupyter.widget-view+json": {
       "model_id": "4b824dcec91a4b7d89f2b8f7bf7370d7",
       "version_major": 2,
       "version_minor": 0
      },
      "text/plain": [
       "config.json:   0%|          | 0.00/768 [00:00<?, ?B/s]"
      ]
     },
     "metadata": {},
     "output_type": "display_data"
    },
    {
     "data": {
      "application/vnd.jupyter.widget-view+json": {
       "model_id": "5bbc28f193cf48a39def92d02f9fdb5e",
       "version_major": 2,
       "version_minor": 0
      },
      "text/plain": [
       "vocab.txt:   0%|          | 0.00/232k [00:00<?, ?B/s]"
      ]
     },
     "metadata": {},
     "output_type": "display_data"
    },
    {
     "data": {
      "application/vnd.jupyter.widget-view+json": {
       "model_id": "9e4b52d2fe324c9a9b85a370bb558be3",
       "version_major": 2,
       "version_minor": 0
      },
      "text/plain": [
       "special_tokens_map.json:   0%|          | 0.00/112 [00:00<?, ?B/s]"
      ]
     },
     "metadata": {},
     "output_type": "display_data"
    },
    {
     "data": {
      "application/vnd.jupyter.widget-view+json": {
       "model_id": "62ab482154284c4d8095a1e7dd925422",
       "version_major": 2,
       "version_minor": 0
      },
      "text/plain": [
       "pytorch_model.bin:   0%|          | 0.00/438M [00:00<?, ?B/s]"
      ]
     },
     "metadata": {},
     "output_type": "display_data"
    },
    {
     "name": "stdout",
     "output_type": "stream",
     "text": [
      "Enter text to analyze emotions: the weather is cold and im feelng tired\n",
      "Detected Emotions and Intensities:\n",
      "anger: 0.99\n",
      "fear: 0.00\n",
      "joy: 0.00\n",
      "love: 0.01\n",
      "sadness: 0.00\n",
      "surprise: 0.00\n"
     ]
    },
    {
     "data": {
      "image/png": "[encoded data removed]",
      "text/plain": [
       "<Figure size 1000x500 with 1 Axes>"
      ]
     },
     "metadata": {},
     "output_type": "display_data"
    }
   ],
   "source": [
    "import matplotlib.pyplot as plt\n",
    "import numpy as np\n",
    "import torch\n",
    "from transformers import AutoTokenizer, AutoModelForSequenceClassification\n",
    "\n",
    "# Load the model and tokenizer\n",
    "tokenizer = AutoTokenizer.from_pretrained(\"nateraw/bert-base-uncased-emotion\")\n",
    "model = AutoModelForSequenceClassification.from_pretrained(\"nateraw/bert-base-uncased-emotion\")\n",
    "labels = [\"anger\", \"fear\", \"joy\", \"love\", \"sadness\", \"surprise\"]\n",
    "\n",
    "# Function to visualize emotions\n",
    "def plot_emotions_bar(emotion_scores):\n",
    "    emotions = list(emotion_scores.keys())\n",
    "    scores = list(emotion_scores.values())\n",
    "\n",
    "    plt.figure(figsize=(10, 5))\n",
    "    plt.bar(emotions, scores, color='skyblue')\n",
    "    plt.title(\"Emotion Intensities\")\n",
    "    plt.xlabel(\"Emotions\")\n",
    "    plt.ylabel(\"Intensity\")\n",
    "    plt.show()\n",
    "\n",
    "# Detect emotions\n",
    "def detect_emotions(text):\n",
    "    inputs = tokenizer(text, return_tensors=\"pt\")\n",
    "    outputs = model(**inputs)\n",
    "    scores = outputs[0][0].detach().numpy()\n",
    "    scores = torch.softmax(torch.tensor(scores), dim=0).numpy()\n",
    "\n",
    "    emotion_scores = {label: score for label, score in zip(labels, scores)}\n",
    "    \n",
    "    print(\"Detected Emotions and Intensities:\")\n",
    "    for emotion, intensity in emotion_scores.items():\n",
    "        print(f\"{emotion}: {intensity:.2f}\")\n",
    "\n",
    "    # Visualize detected emotions\n",
    "    plot_emotions_bar(emotion_scores)\n",
    "\n",
    "# Test the updated function\n",
    "text = input(\"Enter text to analyze emotions: \")\n",
    "detect_emotions(text)\n"
   ]
  },
  {
   "cell_type": "markdown",
   "id": "8eccc014",
   "metadata": {},
   "source": [
    "**Facebook API**"
   ]
  },
  {
   "cell_type": "code",
   "execution_count": 5,
   "id": "3cdf4363",
   "metadata": {},
   "outputs": [
    {
     "name": "stdout",
     "output_type": "stream",
     "text": [
      "Collecting selenium\n",
      "  Downloading selenium-4.26.1-py3-none-any.whl.metadata (7.1 kB)\n",
      "Requirement already satisfied: urllib3<3,>=1.26 in c:\\users\\vampire\\appdata\\local\\anaconda3\\lib\\site-packages (from urllib3[socks]<3,>=1.26->selenium) (1.26.14)\n",
      "Collecting trio~=0.17 (from selenium)\n",
      "  Downloading trio-0.27.0-py3-none-any.whl.metadata (8.6 kB)\n",
      "Collecting trio-websocket~=0.9 (from selenium)\n",
      "  Downloading trio_websocket-0.11.1-py3-none-any.whl.metadata (4.7 kB)\n",
      "Requirement already satisfied: certifi>=2021.10.8 in c:\\users\\vampire\\appdata\\local\\anaconda3\\lib\\site-packages (from selenium) (2024.8.30)\n",
      "Requirement already satisfied: typing_extensions~=4.9 in c:\\users\\vampire\\appdata\\local\\anaconda3\\lib\\site-packages (from selenium) (4.12.2)\n",
      "Collecting websocket-client~=1.8 (from selenium)\n",
      "  Downloading websocket_client-1.8.0-py3-none-any.whl.metadata (8.0 kB)\n",
      "Collecting attrs>=23.2.0 (from trio~=0.17->selenium)\n",
      "  Downloading attrs-24.2.0-py3-none-any.whl.metadata (11 kB)\n",
      "Requirement already satisfied: sortedcontainers in c:\\users\\vampire\\appdata\\local\\anaconda3\\lib\\site-packages (from trio~=0.17->selenium) (2.4.0)\n",
      "Requirement already satisfied: idna in c:\\users\\vampire\\appdata\\local\\anaconda3\\lib\\site-packages (from trio~=0.17->selenium) (2.10)\n",
      "Collecting outcome (from trio~=0.17->selenium)\n",
      "  Downloading outcome-1.3.0.post0-py2.py3-none-any.whl.metadata (2.6 kB)\n",
      "Collecting sniffio>=1.3.0 (from trio~=0.17->selenium)\n",
      "  Downloading sniffio-1.3.1-py3-none-any.whl.metadata (3.9 kB)\n",
      "Requirement already satisfied: cffi>=1.14 in c:\\users\\vampire\\appdata\\local\\anaconda3\\lib\\site-packages (from trio~=0.17->selenium) (1.15.1)\n",
      "Collecting exceptiongroup (from trio~=0.17->selenium)\n",
      "  Downloading exceptiongroup-1.2.2-py3-none-any.whl.metadata (6.6 kB)\n",
      "Collecting wsproto>=0.14 (from trio-websocket~=0.9->selenium)\n",
      "  Downloading wsproto-1.2.0-py3-none-any.whl.metadata (5.6 kB)\n",
      "Requirement already satisfied: PySocks!=1.5.7,<2.0,>=1.5.6 in c:\\users\\vampire\\appdata\\local\\anaconda3\\lib\\site-packages (from urllib3[socks]<3,>=1.26->selenium) (1.7.1)\n",
      "Requirement already satisfied: pycparser in c:\\users\\vampire\\appdata\\local\\anaconda3\\lib\\site-packages (from cffi>=1.14->trio~=0.17->selenium) (2.21)\n",
      "Requirement already satisfied: h11<1,>=0.9.0 in c:\\users\\vampire\\appdata\\local\\anaconda3\\lib\\site-packages (from wsproto>=0.14->trio-websocket~=0.9->selenium) (0.9.0)\n",
      "Downloading selenium-4.26.1-py3-none-any.whl (9.7 MB)\n",
      "   ---------------------------------------- 0.0/9.7 MB ? eta -:--:--\n",
      "   ---------------- ----------------------- 3.9/9.7 MB 19.5 MB/s eta 0:00:01\n",
      "   -------------------------------------- - 9.4/9.7 MB 23.5 MB/s eta 0:00:01\n",
      "   ---------------------------------------- 9.7/9.7 MB 21.5 MB/s eta 0:00:00\n",
      "Downloading trio-0.27.0-py3-none-any.whl (481 kB)\n",
      "Downloading trio_websocket-0.11.1-py3-none-any.whl (17 kB)\n",
      "Downloading websocket_client-1.8.0-py3-none-any.whl (58 kB)\n",
      "Downloading attrs-24.2.0-py3-none-any.whl (63 kB)\n",
      "Downloading sniffio-1.3.1-py3-none-any.whl (10 kB)\n",
      "Downloading wsproto-1.2.0-py3-none-any.whl (24 kB)\n",
      "Downloading exceptiongroup-1.2.2-py3-none-any.whl (16 kB)\n",
      "Downloading outcome-1.3.0.post0-py2.py3-none-any.whl (10 kB)\n",
      "Installing collected packages: wsproto, websocket-client, sniffio, exceptiongroup, attrs, outcome, trio, trio-websocket, selenium\n",
      "  Attempting uninstall: websocket-client\n",
      "    Found existing installation: websocket-client 0.58.0\n",
      "    Uninstalling websocket-client-0.58.0:\n",
      "      Successfully uninstalled websocket-client-0.58.0\n",
      "  Attempting uninstall: sniffio\n",
      "    Found existing installation: sniffio 1.2.0\n",
      "    Uninstalling sniffio-1.2.0:\n",
      "      Successfully uninstalled sniffio-1.2.0\n",
      "  Attempting uninstall: attrs\n",
      "    Found existing installation: attrs 22.1.0\n",
      "    Uninstalling attrs-22.1.0:\n",
      "      Successfully uninstalled attrs-22.1.0\n",
      "Successfully installed attrs-24.2.0 exceptiongroup-1.2.2 outcome-1.3.0.post0 selenium-4.26.1 sniffio-1.3.1 trio-0.27.0 trio-websocket-0.11.1 websocket-client-1.8.0 wsproto-1.2.0\n"
     ]
    }
   ],
   "source": [
    "!pip install selenium\n"
   ]
  }
 ],
 "metadata": {
  "kernelspec": {
   "display_name": "Python 3 (ipykernel)",
   "language": "python",
   "name": "python3"
  },
  "language_info": {
   "codemirror_mode": {
    "name": "ipython",
    "version": 3
   },
   "file_extension": ".py",
   "mimetype": "text/x-python",
   "name": "python",
   "nbconvert_exporter": "python",
   "pygments_lexer": "ipython3",
   "version": "3.10.9"
  }
 },
 "nbformat": 4,
 "nbformat_minor": 5
}
